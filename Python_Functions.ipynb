{
  "nbformat": 4,
  "nbformat_minor": 0,
  "metadata": {
    "colab": {
      "provenance": [],
      "authorship_tag": "ABX9TyNS0zdnRXcHtmKYbBPQc8Ba",
      "include_colab_link": true
    },
    "kernelspec": {
      "name": "python3",
      "display_name": "Python 3"
    },
    "language_info": {
      "name": "python"
    }
  },
  "cells": [
    {
      "cell_type": "markdown",
      "metadata": {
        "id": "view-in-github",
        "colab_type": "text"
      },
      "source": [
        "<a href=\"https://colab.research.google.com/github/ElijahAranzamendez/PLNG211-QC/blob/main/Python_Functions.ipynb\" target=\"_parent\"><img src=\"https://colab.research.google.com/assets/colab-badge.svg\" alt=\"Open In Colab\"/></a>"
      ]
    },
    {
      "cell_type": "code",
      "execution_count": null,
      "metadata": {
        "colab": {
          "base_uri": "https://localhost:8080/"
        },
        "id": "yGqOmGPmJxme",
        "outputId": "801a14f2-9d54-4129-e31f-dfa9e5175861"
      },
      "outputs": [
        {
          "output_type": "stream",
          "name": "stdout",
          "text": [
            "100\n",
            "Celsius 37.78\n",
            "Kelvin 310.93\n"
          ]
        }
      ],
      "source": [
        "#Writing your own function/ Conversion\n",
        "def convert_to_celsius(fahrenheit):\n",
        "  return (fahrenheit-32) *5/9\n",
        "\n",
        "def convert_to_kelvin(fahrenheit):\n",
        "  return ((fahrenheit-32) *5/9) +273.15\n",
        "fahrenheit = int(input())\n",
        "\n",
        "print(\"Celsius\", round(convert_to_celsius(fahrenheit),2))\n",
        "print(\"Kelvin\", round(convert_to_kelvin(fahrenheit),2))"
      ]
    },
    {
      "cell_type": "code",
      "source": [
        "def Name():\n",
        "  pass"
      ],
      "metadata": {
        "id": "P_1QZGQ5ORRs"
      },
      "execution_count": null,
      "outputs": []
    },
    {
      "cell_type": "code",
      "source": [
        "def my_function(fname):\n",
        "  return(fname + \" Sayo\")\n",
        "\n",
        "print(my_function(\"Mam\"))\n",
        "print(my_function(\"Maria\"))\n",
        "print(my_function(\"Rizette\"))"
      ],
      "metadata": {
        "colab": {
          "base_uri": "https://localhost:8080/"
        },
        "id": "MvzhYa4EOWO_",
        "outputId": "c072203b-158c-4ae4-e4a9-b277bc808289"
      },
      "execution_count": null,
      "outputs": [
        {
          "output_type": "stream",
          "name": "stdout",
          "text": [
            "Mam Sayo\n",
            "Maria Sayo\n",
            "Rizette Sayo\n"
          ]
        }
      ]
    },
    {
      "cell_type": "code",
      "source": [
        "#Returns a Value\n",
        "def my_function(x):\n",
        "  return(5+x)\n",
        "\n",
        "print(my_function(4))\n",
        "print(my_function(5))\n",
        "print(my_function(6))"
      ],
      "metadata": {
        "colab": {
          "base_uri": "https://localhost:8080/"
        },
        "id": "dfd7V2p-PEi8",
        "outputId": "4c0d73bb-6587-44b4-d4f6-3a0b739a77be"
      },
      "execution_count": null,
      "outputs": [
        {
          "output_type": "stream",
          "name": "stdout",
          "text": [
            "9\n",
            "10\n",
            "11\n"
          ]
        }
      ]
    },
    {
      "cell_type": "code",
      "source": [
        "#Exercise 1\n",
        "print(min(2, 3, 4))\n",
        "print(max(2, -3, 4, 7,-5))\n",
        "print(max(2, -3, min(4, 7),-5))"
      ],
      "metadata": {
        "id": "hEAJFPwoW4SJ",
        "colab": {
          "base_uri": "https://localhost:8080/"
        },
        "outputId": "f12eed93-ca15-48ab-9ac8-26d3aadd4601"
      },
      "execution_count": 21,
      "outputs": [
        {
          "output_type": "stream",
          "name": "stdout",
          "text": [
            "2\n",
            "7\n",
            "4\n"
          ]
        }
      ]
    },
    {
      "cell_type": "code",
      "source": [
        "#Exercise 2\n",
        "\n",
        "def my_sum(x, y, z):\n",
        "  return (x + y + z)\n",
        "\n",
        "def my_ave(x, y, z):\n",
        "  return my_sum(x, y, z)/ 3\n",
        "\n",
        "def my_squares(x, y, z):\n",
        "  return (pow(x,2)  + pow(y,2) + pow(z,2))\n",
        "\n",
        "x= int(input(\"first number: \"))\n",
        "y = int(input(\"second number: \"))\n",
        "z = int(input(\"third number: \"))\n",
        "\n",
        "print(\"Sum:\",my_sum(x, y ,z))\n",
        "print(\"Average:\",my_ave(x, y ,z))\n",
        "print(\"Sum of squares:\",my_squares(x, y ,z))"
      ],
      "metadata": {
        "id": "JcO4o_SzXOdJ",
        "colab": {
          "base_uri": "https://localhost:8080/"
        },
        "outputId": "82bab677-9ae5-4775-8442-8b9e1029082f"
      },
      "execution_count": 17,
      "outputs": [
        {
          "output_type": "stream",
          "name": "stdout",
          "text": [
            "first number: 10\n",
            "second number: 10\n",
            "third number: 10\n",
            "Sum: 30\n",
            "Average: 10.0\n",
            "Sum of squares: 300\n"
          ]
        }
      ]
    }
  ]
}