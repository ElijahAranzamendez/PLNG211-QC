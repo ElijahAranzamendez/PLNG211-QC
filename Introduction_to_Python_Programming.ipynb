{
  "nbformat": 4,
  "nbformat_minor": 0,
  "metadata": {
    "colab": {
      "provenance": [],
      "collapsed_sections": [],
      "authorship_tag": "ABX9TyNCAH3nrmxnbtZawycTzac9",
      "include_colab_link": true
    },
    "kernelspec": {
      "name": "python3",
      "display_name": "Python 3"
    },
    "language_info": {
      "name": "python"
    }
  },
  "cells": [
    {
      "cell_type": "markdown",
      "metadata": {
        "id": "view-in-github",
        "colab_type": "text"
      },
      "source": [
        "<a href=\"https://colab.research.google.com/github/ElijahAranzamendez/PLNG211-QC/blob/main/Introduction_to_Python_Programming.ipynb\" target=\"_parent\"><img src=\"https://colab.research.google.com/assets/colab-badge.svg\" alt=\"Open In Colab\"/></a>"
      ]
    },
    {
      "cell_type": "markdown",
      "source": [
        "### Python Indentation"
      ],
      "metadata": {
        "id": "WGnB7jXzDWTz"
      }
    },
    {
      "cell_type": "code",
      "execution_count": null,
      "metadata": {
        "colab": {
          "base_uri": "https://localhost:8080/"
        },
        "id": "dea4yjyoC7Yb",
        "outputId": "b85f7a90-e6b5-4b76-df8a-9012b4110d3d"
      },
      "outputs": [
        {
          "output_type": "stream",
          "name": "stdout",
          "text": [
            "5 is greater than 2\n"
          ]
        }
      ],
      "source": [
        "#This is an example of Python Indentation\n",
        "if 5>2:\n",
        "  print(\"5 is greater than 2\")"
      ]
    },
    {
      "cell_type": "markdown",
      "source": [
        "### Python Variable"
      ],
      "metadata": {
        "id": "lMZVJvbCFF8c"
      }
    },
    {
      "cell_type": "code",
      "source": [
        "x = 1\n",
        "a, b = 0, -1\n",
        "a = 9\n",
        "c = \"sally\"\n",
        "c = \"Danny\"\n",
        "print (a)\n",
        "print (c)\n",
        "c = \"Maria\"\n",
        "print (c)"
      ],
      "metadata": {
        "colab": {
          "base_uri": "https://localhost:8080/"
        },
        "id": "mxTbLvZBFKg8",
        "outputId": "da5d0e58-b864-4dce-bc7b-616bd68317d8"
      },
      "execution_count": null,
      "outputs": [
        {
          "output_type": "stream",
          "name": "stdout",
          "text": [
            "9\n",
            "Danny\n",
            "Maria\n"
          ]
        }
      ]
    },
    {
      "cell_type": "markdown",
      "source": [
        "### Casting"
      ],
      "metadata": {
        "id": "g9mgNE74IIEJ"
      }
    },
    {
      "cell_type": "code",
      "source": [
        "d = int(4)\n",
        "print(d)\n",
        "e = float (4)\n",
        "print(e)"
      ],
      "metadata": {
        "colab": {
          "base_uri": "https://localhost:8080/"
        },
        "id": "RqLnjX4PILiI",
        "outputId": "6acf022e-0c0d-4946-ef4b-7f34107653fb"
      },
      "execution_count": null,
      "outputs": [
        {
          "output_type": "stream",
          "name": "stdout",
          "text": [
            "4\n",
            "4.0\n"
          ]
        }
      ]
    },
    {
      "cell_type": "markdown",
      "source": [
        "### Type () Function"
      ],
      "metadata": {
        "id": "LaQFhAQoI6kb"
      }
    },
    {
      "cell_type": "code",
      "source": [
        "print (type(d))\n",
        "print (type(e))"
      ],
      "metadata": {
        "colab": {
          "base_uri": "https://localhost:8080/"
        },
        "id": "psn5lypKJPyz",
        "outputId": "94e92d58-91fb-419d-92c9-c157557f6365"
      },
      "execution_count": null,
      "outputs": [
        {
          "output_type": "stream",
          "name": "stdout",
          "text": [
            "<class 'int'>\n",
            "<class 'float'>\n"
          ]
        }
      ]
    },
    {
      "cell_type": "markdown",
      "source": [
        "### Single Quote or Double Quote"
      ],
      "metadata": {
        "id": "Ywl8DvyJKIZb"
      }
    },
    {
      "cell_type": "code",
      "source": [
        "f = \"Maria\"\n",
        "print(f)\n",
        "g = 'Ana'\n",
        "print(g)"
      ],
      "metadata": {
        "colab": {
          "base_uri": "https://localhost:8080/"
        },
        "id": "pa3EEOGWKfGe",
        "outputId": "baa6340e-6b38-431a-d5f0-1f25b29f912e"
      },
      "execution_count": null,
      "outputs": [
        {
          "output_type": "stream",
          "name": "stdout",
          "text": [
            "Maria\n",
            "Ana\n"
          ]
        }
      ]
    },
    {
      "cell_type": "markdown",
      "source": [
        "### Multiple Variables"
      ],
      "metadata": {
        "id": "EEh0FtQnMzT7"
      }
    },
    {
      "cell_type": "code",
      "source": [
        "x, y, z = 4, 5, 6\n",
        "print (x)\n",
        "print (y)\n",
        "print (z)"
      ],
      "metadata": {
        "colab": {
          "base_uri": "https://localhost:8080/"
        },
        "id": "9C6JEgZJM4c-",
        "outputId": "271c6168-e5db-4687-ca1e-02bb5919b4ce"
      },
      "execution_count": null,
      "outputs": [
        {
          "output_type": "stream",
          "name": "stdout",
          "text": [
            "4\n",
            "5\n",
            "6\n"
          ]
        }
      ]
    },
    {
      "cell_type": "markdown",
      "source": [
        "### Single Value to Multiple Variables"
      ],
      "metadata": {
        "id": "nDqCf5j9Nsfg"
      }
    },
    {
      "cell_type": "code",
      "source": [
        "x = y = z = 'Lilo'\n",
        "print (x)\n",
        "print (y)\n",
        "print (z)"
      ],
      "metadata": {
        "colab": {
          "base_uri": "https://localhost:8080/"
        },
        "id": "9ZndeuuUNyRy",
        "outputId": "689e32b0-1dba-474a-a204-a05fbfaa9c9c"
      },
      "execution_count": null,
      "outputs": [
        {
          "output_type": "stream",
          "name": "stdout",
          "text": [
            "Lilo\n",
            "Lilo\n",
            "Lilo\n"
          ]
        }
      ]
    },
    {
      "cell_type": "markdown",
      "source": [
        "### Output Variable using Print and +"
      ],
      "metadata": {
        "id": "sp7eslwSONaa"
      }
    },
    {
      "cell_type": "code",
      "source": [
        "s = \"Python is\"\n",
        "t = \"enjoying\"\n",
        "print(\"Python is\" + \" \" + t)\n",
        "\n",
        "print(s+' '+t)"
      ],
      "metadata": {
        "colab": {
          "base_uri": "https://localhost:8080/"
        },
        "id": "AOgji-VVOyf9",
        "outputId": "002ebff4-0bf3-4c3e-d208-deab94955eec"
      },
      "execution_count": null,
      "outputs": [
        {
          "output_type": "stream",
          "name": "stdout",
          "text": [
            "Python is enjoying\n",
            "Python is enjoying\n"
          ]
        }
      ]
    },
    {
      "cell_type": "markdown",
      "source": [
        "### Arithmetic"
      ],
      "metadata": {
        "id": "mBGJ2ZbCs0BJ"
      }
    },
    {
      "cell_type": "code",
      "source": [
        "x = 1\n",
        "y = 2\n",
        "sum = x + y\n",
        "sum\n",
        "print (x)\n",
        "print (y)\n",
        "print (sum)\n",
        "\n",
        "#Modulo Division \n",
        "l = 4 % 2\n",
        "print (\"4 % 2 =\", l)\n",
        "\n",
        "#Floor Division\n",
        "k = 3//2\n",
        "print(\"3//2= \", k)"
      ],
      "metadata": {
        "colab": {
          "base_uri": "https://localhost:8080/"
        },
        "id": "xIL9YKpgs3OA",
        "outputId": "3a944bc0-81a1-4106-92e7-00ae6d24591d"
      },
      "execution_count": null,
      "outputs": [
        {
          "output_type": "stream",
          "name": "stdout",
          "text": [
            "1\n",
            "2\n",
            "3\n",
            "4 % 2 = 0\n",
            "3//2=  1\n"
          ]
        }
      ]
    },
    {
      "cell_type": "markdown",
      "source": [
        "### Assignment Operator"
      ],
      "metadata": {
        "id": "SEFwdHDfuH_7"
      }
    },
    {
      "cell_type": "code",
      "source": [
        "x = 1\n",
        "x += 1\n",
        "print (x)"
      ],
      "metadata": {
        "colab": {
          "base_uri": "https://localhost:8080/"
        },
        "id": "jNzOT0Prun_y",
        "outputId": "8e986365-e168-4c8a-f46b-903cea285cc7"
      },
      "execution_count": null,
      "outputs": [
        {
          "output_type": "stream",
          "name": "stdout",
          "text": [
            "2\n"
          ]
        }
      ]
    },
    {
      "cell_type": "markdown",
      "source": [
        "### Logical Operator"
      ],
      "metadata": {
        "id": "pwg4crZpvBMJ"
      }
    },
    {
      "cell_type": "code",
      "source": [
        "q = 1\n",
        "r = 4\n",
        "q > r and r==r"
      ],
      "metadata": {
        "colab": {
          "base_uri": "https://localhost:8080/"
        },
        "id": "dZcgEkPGvEdE",
        "outputId": "acd1a50e-c7db-4977-8676-8f250efafe17"
      },
      "execution_count": null,
      "outputs": [
        {
          "output_type": "execute_result",
          "data": {
            "text/plain": [
              "False"
            ]
          },
          "metadata": {},
          "execution_count": 11
        }
      ]
    }
  ]
}