{
  "nbformat": 4,
  "nbformat_minor": 0,
  "metadata": {
    "colab": {
      "provenance": [],
      "authorship_tag": "ABX9TyP4ToqaMYEBvezL3uPeje6B",
      "include_colab_link": true
    },
    "kernelspec": {
      "name": "python3",
      "display_name": "Python 3"
    },
    "language_info": {
      "name": "python"
    }
  },
  "cells": [
    {
      "cell_type": "markdown",
      "metadata": {
        "id": "view-in-github",
        "colab_type": "text"
      },
      "source": [
        "<a href=\"https://colab.research.google.com/github/ElijahAranzamendez/PLNG211-QC/blob/main/Laboratory_Activity_1.ipynb\" target=\"_parent\"><img src=\"https://colab.research.google.com/assets/colab-badge.svg\" alt=\"Open In Colab\"/></a>"
      ]
    },
    {
      "cell_type": "code",
      "execution_count": 64,
      "metadata": {
        "colab": {
          "base_uri": "https://localhost:8080/"
        },
        "id": "xUkTOzwlD9AL",
        "outputId": "208bf81e-ea78-478f-8708-859a72088d93"
      },
      "outputs": [
        {
          "output_type": "stream",
          "name": "stdout",
          "text": [
            "45\n"
          ]
        }
      ],
      "source": [
        "#Problem 1: Write a Python program to create an array of 10 integers and display the array items. \n",
        "#Access individual elements through indexes and compute for the sum.\n",
        "\n",
        "myArray= [0, 1, 2, 3, 4, 5, 6, 7, 8, 9]\n",
        "sum=0\n",
        "for x in myArray:\n",
        "  sum+=myArray[x]\n",
        "print(sum)\n"
      ]
    },
    {
      "cell_type": "code",
      "source": [
        "#Problem 2: Write a Python program to append a new item to the end of the array. \n",
        "#Original array: numbers = [1, 2, 3, 4, 5, 6, 7, 8, 9, 10]\n",
        "\n",
        "myArray.append(10)\n",
        "print(myArray)"
      ],
      "metadata": {
        "colab": {
          "base_uri": "https://localhost:8080/"
        },
        "id": "QQpO2ZYrGEqO",
        "outputId": "71f39c26-e9a5-4cf9-d7cf-52c785ac273b"
      },
      "execution_count": 65,
      "outputs": [
        {
          "output_type": "stream",
          "name": "stdout",
          "text": [
            "[0, 1, 2, 3, 4, 5, 6, 7, 8, 9, 10]\n"
          ]
        }
      ]
    },
    {
      "cell_type": "code",
      "source": [
        "#Problem 3: Write a Python program to insert a new item before the second element in an existing array. \n",
        "#Original array: numbers = [1, 2, 3, 4, 5, 6, 7, 8, 9, 10]\n",
        "\n",
        "myArray.insert(1,180)\n",
        "print(myArray)\n"
      ],
      "metadata": {
        "colab": {
          "base_uri": "https://localhost:8080/"
        },
        "id": "RSMNqCfLGpiB",
        "outputId": "3f140068-e6ae-4cf9-e5ed-5b2ffd5ef1a3"
      },
      "execution_count": 66,
      "outputs": [
        {
          "output_type": "stream",
          "name": "stdout",
          "text": [
            "[0, 180, 1, 2, 3, 4, 5, 6, 7, 8, 9, 10]\n"
          ]
        }
      ]
    },
    {
      "cell_type": "code",
      "source": [
        "#Problem 4: Write a Python program to reverse the order of the items in the array. \n",
        "#Original array: numbers = [5, 4, 3, 2, 1]\n",
        "\n",
        "myArray.reverse()\n",
        "print(myArray)"
      ],
      "metadata": {
        "colab": {
          "base_uri": "https://localhost:8080/"
        },
        "id": "IkX3cKpqIRr_",
        "outputId": "e8c2ca7e-3648-4cab-9b04-16f8ba672725"
      },
      "execution_count": 67,
      "outputs": [
        {
          "output_type": "stream",
          "name": "stdout",
          "text": [
            "[10, 9, 8, 7, 6, 5, 4, 3, 2, 1, 180, 0]\n"
          ]
        }
      ]
    },
    {
      "cell_type": "code",
      "source": [
        "#Problem 5: Write a Python program to get the length of the array. \n",
        "#Original array: numbers = [5, 4, 3, 2, 1]\n",
        "\n",
        "print(len(myArray))"
      ],
      "metadata": {
        "colab": {
          "base_uri": "https://localhost:8080/"
        },
        "id": "Gea3VAiCI3re",
        "outputId": "e29fb963-042b-4211-c8ed-ebbbc970bf05"
      },
      "execution_count": 68,
      "outputs": [
        {
          "output_type": "stream",
          "name": "stdout",
          "text": [
            "12\n"
          ]
        }
      ]
    }
  ]
}