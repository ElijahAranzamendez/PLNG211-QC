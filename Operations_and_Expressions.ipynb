{
  "nbformat": 4,
  "nbformat_minor": 0,
  "metadata": {
    "colab": {
      "provenance": [],
      "collapsed_sections": [],
      "authorship_tag": "ABX9TyPpaDte30M/EGS+Y4bFpF7h",
      "include_colab_link": true
    },
    "kernelspec": {
      "name": "python3",
      "display_name": "Python 3"
    },
    "language_info": {
      "name": "python"
    }
  },
  "cells": [
    {
      "cell_type": "markdown",
      "metadata": {
        "id": "view-in-github",
        "colab_type": "text"
      },
      "source": [
        "<a href=\"https://colab.research.google.com/github/ElijahAranzamendez/PLNG211-QC/blob/main/Operations_and_Expressions.ipynb\" target=\"_parent\"><img src=\"https://colab.research.google.com/assets/colab-badge.svg\" alt=\"Open In Colab\"/></a>"
      ]
    },
    {
      "cell_type": "markdown",
      "source": [
        "### Boolean Operators "
      ],
      "metadata": {
        "id": "qMMsmZVfPIjY"
      }
    },
    {
      "cell_type": "code",
      "execution_count": 1,
      "metadata": {
        "colab": {
          "base_uri": "https://localhost:8080/"
        },
        "id": "ubx8H7XoO4LH",
        "outputId": "580b08e7-daed-49f7-b282-26cd3765d26e"
      },
      "outputs": [
        {
          "output_type": "stream",
          "name": "stdout",
          "text": [
            "True\n",
            "False\n",
            "False\n",
            "True\n"
          ]
        }
      ],
      "source": [
        "a = 10\n",
        "b = 9\n",
        "print (10 > 9)\n",
        "print (10 < 9)\n",
        "print (10 == 9)\n",
        "print (a != b)"
      ]
    },
    {
      "cell_type": "markdown",
      "source": [
        "### Bool() Function"
      ],
      "metadata": {
        "id": "gtc4sSmDTrTX"
      }
    },
    {
      "cell_type": "code",
      "source": [
        "print(bool(15))\n",
        "print(bool(\"Maria\"))\n",
        "\n",
        "print(bool (0))\n",
        "print(bool (None))\n",
        "print(bool (False))"
      ],
      "metadata": {
        "colab": {
          "base_uri": "https://localhost:8080/"
        },
        "id": "_hT6MPtWUF0D",
        "outputId": "c5d01618-9728-40a0-988c-873790f1c44e"
      },
      "execution_count": 3,
      "outputs": [
        {
          "output_type": "stream",
          "name": "stdout",
          "text": [
            "True\n",
            "True\n",
            "False\n",
            "False\n",
            "False\n"
          ]
        }
      ]
    },
    {
      "cell_type": "markdown",
      "source": [
        "### Function that returns a Boolean"
      ],
      "metadata": {
        "id": "UuWZAT4BUhXB"
      }
    },
    {
      "cell_type": "code",
      "source": [
        "def my_Function():\n",
        "  return True\n",
        "\n",
        "  if(my_Function()):\n",
        "    print(\"Yes!\")\n",
        "  else:\n",
        "    print(\"No!\")"
      ],
      "metadata": {
        "id": "KSOFO8zkV50Z"
      },
      "execution_count": 27,
      "outputs": []
    },
    {
      "cell_type": "markdown",
      "source": [
        "### Application 1"
      ],
      "metadata": {
        "id": "KQXbCQ5_WgfN"
      }
    },
    {
      "cell_type": "code",
      "source": [
        "c = 6         #110 in binary\n",
        "d = 7         #111 in binary\n",
        "print(c==d)\n",
        "print(c!=c)"
      ],
      "metadata": {
        "colab": {
          "base_uri": "https://localhost:8080/"
        },
        "id": "lIcdiSMQWoxv",
        "outputId": "e17e6570-3e0c-4aa1-d665-a1d346813a2c"
      },
      "execution_count": 15,
      "outputs": [
        {
          "output_type": "stream",
          "name": "stdout",
          "text": [
            "False\n",
            "False\n"
          ]
        }
      ]
    },
    {
      "cell_type": "markdown",
      "source": [
        "### Python Operators"
      ],
      "metadata": {
        "id": "ugoBbQxaXP_V"
      }
    },
    {
      "cell_type": "code",
      "source": [
        "print(10 + 9)\n",
        "print(10 - 9)\n",
        "print(10 * 9)\n",
        "print(10 / 5)   #Division\n",
        "\n",
        "10//3           #Floor Division\n",
        "print(10 % 3)   #Remainder 10/3= 3.33 remainder 1\n",
        "print(10 ** 2)"
      ],
      "metadata": {
        "colab": {
          "base_uri": "https://localhost:8080/"
        },
        "id": "3-VzaDnBXmgx",
        "outputId": "b37a8a5b-5d43-4f8f-d41a-911c2be4dc5b"
      },
      "execution_count": 19,
      "outputs": [
        {
          "output_type": "stream",
          "name": "stdout",
          "text": [
            "19\n",
            "1\n",
            "90\n",
            "2.0\n",
            "1\n",
            "100\n"
          ]
        }
      ]
    },
    {
      "cell_type": "markdown",
      "source": [
        "Bitwise Operators"
      ],
      "metadata": {
        "id": "bGP1rjBwY_Jp"
      }
    },
    {
      "cell_type": "code",
      "source": [
        "e = 60\n",
        "f = 13\n",
        "e ^ f"
      ],
      "metadata": {
        "colab": {
          "base_uri": "https://localhost:8080/"
        },
        "id": "D4MtEpw-ZBvq",
        "outputId": "f2451adf-20cb-4d63-f329-13be67db0c88"
      },
      "execution_count": 20,
      "outputs": [
        {
          "output_type": "execute_result",
          "data": {
            "text/plain": [
              "49"
            ]
          },
          "metadata": {},
          "execution_count": 20
        }
      ]
    },
    {
      "cell_type": "markdown",
      "source": [
        "Python Assignment Operator"
      ],
      "metadata": {
        "id": "-H0IbsC1ZmUb"
      }
    },
    {
      "cell_type": "code",
      "source": [
        "x = 4\n",
        "x += 3  #x = x + 3, x = 4 + 3 = 7\n",
        "print (\"x =\", x)"
      ],
      "metadata": {
        "colab": {
          "base_uri": "https://localhost:8080/"
        },
        "id": "5eTnu5G4ZqkO",
        "outputId": "b357e028-1191-4468-a463-d86d27f203e9"
      },
      "execution_count": 23,
      "outputs": [
        {
          "output_type": "stream",
          "name": "stdout",
          "text": [
            "x = 7\n"
          ]
        }
      ]
    },
    {
      "cell_type": "markdown",
      "source": [
        "Logical Operator"
      ],
      "metadata": {
        "id": "WBjO8jeaaDVL"
      }
    },
    {
      "cell_type": "code",
      "source": [
        "print(( 4 > 3 ) and (5 != 5))\n",
        "print((6 == 6) or (6 != 6))"
      ],
      "metadata": {
        "colab": {
          "base_uri": "https://localhost:8080/"
        },
        "id": "JVg0sV_baTCr",
        "outputId": "ba60ad55-21af-4939-bd10-460089e139b7"
      },
      "execution_count": 25,
      "outputs": [
        {
          "output_type": "stream",
          "name": "stdout",
          "text": [
            "False\n",
            "True\n"
          ]
        }
      ]
    },
    {
      "cell_type": "markdown",
      "source": [
        "Identify Operators"
      ],
      "metadata": {
        "id": "ByqTxYXGb9zy"
      }
    },
    {
      "cell_type": "code",
      "source": [
        "print(4 is 4)\n",
        "print(7 is not 7)"
      ],
      "metadata": {
        "colab": {
          "base_uri": "https://localhost:8080/"
        },
        "id": "8RzXiH5VcAFk",
        "outputId": "23a21696-b9ca-451d-edbd-c814102dfdbc"
      },
      "execution_count": 26,
      "outputs": [
        {
          "output_type": "stream",
          "name": "stdout",
          "text": [
            "True\n",
            "False\n"
          ]
        }
      ]
    }
  ]
}