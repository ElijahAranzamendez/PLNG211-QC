{
  "nbformat": 4,
  "nbformat_minor": 0,
  "metadata": {
    "colab": {
      "provenance": [],
      "authorship_tag": "ABX9TyPRWWgb+HuuK22/uDJYMWcE",
      "include_colab_link": true
    },
    "kernelspec": {
      "name": "python3",
      "display_name": "Python 3"
    },
    "language_info": {
      "name": "python"
    }
  },
  "cells": [
    {
      "cell_type": "markdown",
      "metadata": {
        "id": "view-in-github",
        "colab_type": "text"
      },
      "source": [
        "<a href=\"https://colab.research.google.com/github/ElijahAranzamendez/PLNG211-QC/blob/main/Lab_Activity_2.ipynb\" target=\"_parent\"><img src=\"https://colab.research.google.com/assets/colab-badge.svg\" alt=\"Open In Colab\"/></a>"
      ]
    },
    {
      "cell_type": "code",
      "source": [
        "#Exercise 1: Write a Python to display your full name, student number, age, and course.\n",
        "Name = 'Elijah Carlo A. Aranzamendez'\n",
        "StudentNo = 2210006331\n",
        "Age = 20\n",
        "School = 'Our Lady of Fatima University'\n",
        "Course = 'Bachelor of Science in Computer Science'"
      ],
      "metadata": {
        "id": "WisQwNX4e5ka"
      },
      "execution_count": 1,
      "outputs": []
    },
    {
      "cell_type": "code",
      "source": [
        "#Exercise 2:\tCreate a class named Student with attributes: Name, Student_No, Age, School, and Course.\n",
        "class Student:\n",
        "  def __init__(My,Name,Student_No, Age, School, Course):\n",
        "    My.Name = Name\n",
        "    My.Student_No = StudentNo\n",
        "    My.Age = Age\n",
        "    My.School = School\n",
        "    My.Course = Course\n",
        "  def info(My):\n",
        "    print(\"Name:\",My.Name)\n",
        "    print(\"Student Number:\",My.Student_No)\n",
        "    print(\"Age:\",My.Age)\n",
        "    print(\"School:\",My.School)\n",
        "    print(\"Course:\",My.Course)"
      ],
      "metadata": {
        "id": "TMxSde0zoOHn"
      },
      "execution_count": 2,
      "outputs": []
    },
    {
      "cell_type": "code",
      "source": [
        "#Exercise 3: Create an object name Myself and assign an instance for each attribute.\n",
        "Myself=Student(Name, StudentNo, Age, School, Course)"
      ],
      "metadata": {
        "id": "aCvPpHGmoOUN"
      },
      "execution_count": 3,
      "outputs": []
    },
    {
      "cell_type": "code",
      "source": [
        "#Exercise 4: Create a method Info() using an instantiation of a class.\n",
        "Myself.info()"
      ],
      "metadata": {
        "colab": {
          "base_uri": "https://localhost:8080/"
        },
        "id": "sVDqbSEsoOic",
        "outputId": "a84089bc-6250-4d67-c2c9-026c5dc04a80"
      },
      "execution_count": 4,
      "outputs": [
        {
          "output_type": "stream",
          "name": "stdout",
          "text": [
            "Name: Elijah Carlo A. Aranzamendez\n",
            "Student Number: 2210006331\n",
            "Age: 20\n",
            "School: Our Lady of Fatima University\n",
            "Course: Bachelor of Science in Computer Science\n"
          ]
        }
      ]
    }
  ]
}